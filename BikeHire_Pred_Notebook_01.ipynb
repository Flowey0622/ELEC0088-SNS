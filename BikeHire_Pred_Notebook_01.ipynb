{
 "cells": [
  {
   "cell_type": "markdown",
   "source": [
    "### Update: 2024-03-07\n",
    "After considering correlation and conducting new filtering on the data, the prediction accuracy of the next day's bicycle rental data reached around 3800."
   ],
   "metadata": {
    "collapsed": false
   },
   "id": "a850f68734cfed88"
  },
  {
   "cell_type": "code",
   "execution_count": 1,
   "outputs": [
    {
     "name": "stderr",
     "output_type": "stream",
     "text": [
      "C:\\Users\\12783\\AppData\\Local\\Temp\\ipykernel_46044\\331001586.py:34: SettingWithCopyWarning: \n",
      "A value is trying to be set on a copy of a slice from a DataFrame\n",
      "\n",
      "See the caveats in the documentation: https://pandas.pydata.org/pandas-docs/stable/user_guide/indexing.html#returning-a-view-versus-a-copy\n",
      "  dataset1_filtered.drop(columns=['name', 'severerisk', 'windgust',\n"
     ]
    },
    {
     "data": {
      "text/plain": "            tempmax  tempmin  temp  feelslikemax  feelslikemin  feelslike  \\\ndatetime                                                                    \n2011-01-01      7.3      4.6   6.0           5.7           2.1        4.1   \n2011-01-02      4.3      2.8   3.5           4.1           0.3        1.6   \n2011-01-03      4.1      0.3   2.6           4.1           0.3        1.6   \n2011-01-04      4.8      1.8   3.8           3.3           0.3        1.8   \n2011-01-05      7.3      4.5   6.0           6.4           0.3        2.6   \n...             ...      ...   ...           ...           ...        ...   \n2024-01-27      8.6      1.1   5.0           6.6          -0.6        3.3   \n2024-01-28     11.5      3.1   7.0          11.5           0.5        5.4   \n2024-01-29     12.1      8.6  10.8          12.1           7.2       10.5   \n2024-01-30     12.5      7.6   9.1          12.5           4.9        7.5   \n2024-01-31     12.1      6.8   8.8          12.1           4.3        7.5   \n\n            dew  humidity  precip  precipcover  snow  snowdepth  windspeed  \\\ndatetime                                                                     \n2011-01-01  3.5      84.0   0.004         4.17   0.0        0.0       12.9   \n2011-01-02 -0.3      76.4   0.497         4.17   0.0        0.0       10.2   \n2011-01-03 -1.8      72.8   0.000         0.00   0.0        0.0        7.8   \n2011-01-04  1.4      84.4   0.002         8.33   0.0        0.0       17.5   \n2011-01-05  3.5      84.4   0.003         8.33   0.0        0.0       31.1   \n...         ...       ...     ...          ...   ...        ...        ...   \n2024-01-27  2.0      81.8   0.000         0.00   0.0        0.0       18.1   \n2024-01-28  4.1      82.4   0.000         0.00   0.0        0.0       13.8   \n2024-01-29  8.8      87.3   0.000         0.00   0.0        0.0       20.8   \n2024-01-30  5.3      77.5   0.000         0.00   0.0        0.0       29.0   \n2024-01-31  4.1      72.5   0.199         4.17   0.0        0.0       25.7   \n\n            winddir  sealevelpressure  cloudcover  visibility  moonphase  \\\ndatetime                                                                   \n2011-01-01    329.7            1024.9        68.7        11.5       0.90   \n2011-01-02    347.6            1028.2        88.3        22.9       0.93   \n2011-01-03    201.4            1024.6        84.4        15.8       0.97   \n2011-01-04    209.9            1013.7        64.1        12.0       0.00   \n2011-01-05    195.2            1000.6        67.4        17.4       0.04   \n...             ...               ...         ...         ...        ...   \n2024-01-27    180.3            1032.7        33.1        15.9       0.56   \n2024-01-28    169.7            1022.7        33.5        15.2       0.59   \n2024-01-29    182.3            1022.0        95.9         8.4       0.62   \n2024-01-30    257.7            1027.4        96.1        24.9       0.66   \n2024-01-31    231.3            1029.7        98.2        21.9       0.69   \n\n            Number of Bicycle Hires  \ndatetime                             \n2011-01-01                   4555.0  \n2011-01-02                   6250.0  \n2011-01-03                   7262.0  \n2011-01-04                  13430.0  \n2011-01-05                  13757.0  \n...                             ...  \n2024-01-27                  16959.0  \n2024-01-28                  15540.0  \n2024-01-29                  22839.0  \n2024-01-30                  22303.0  \n2024-01-31                  24505.0  \n\n[4779 rows x 19 columns]",
      "text/html": "<div>\n<style scoped>\n    .dataframe tbody tr th:only-of-type {\n        vertical-align: middle;\n    }\n\n    .dataframe tbody tr th {\n        vertical-align: top;\n    }\n\n    .dataframe thead th {\n        text-align: right;\n    }\n</style>\n<table border=\"1\" class=\"dataframe\">\n  <thead>\n    <tr style=\"text-align: right;\">\n      <th></th>\n      <th>tempmax</th>\n      <th>tempmin</th>\n      <th>temp</th>\n      <th>feelslikemax</th>\n      <th>feelslikemin</th>\n      <th>feelslike</th>\n      <th>dew</th>\n      <th>humidity</th>\n      <th>precip</th>\n      <th>precipcover</th>\n      <th>snow</th>\n      <th>snowdepth</th>\n      <th>windspeed</th>\n      <th>winddir</th>\n      <th>sealevelpressure</th>\n      <th>cloudcover</th>\n      <th>visibility</th>\n      <th>moonphase</th>\n      <th>Number of Bicycle Hires</th>\n    </tr>\n    <tr>\n      <th>datetime</th>\n      <th></th>\n      <th></th>\n      <th></th>\n      <th></th>\n      <th></th>\n      <th></th>\n      <th></th>\n      <th></th>\n      <th></th>\n      <th></th>\n      <th></th>\n      <th></th>\n      <th></th>\n      <th></th>\n      <th></th>\n      <th></th>\n      <th></th>\n      <th></th>\n      <th></th>\n    </tr>\n  </thead>\n  <tbody>\n    <tr>\n      <th>2011-01-01</th>\n      <td>7.3</td>\n      <td>4.6</td>\n      <td>6.0</td>\n      <td>5.7</td>\n      <td>2.1</td>\n      <td>4.1</td>\n      <td>3.5</td>\n      <td>84.0</td>\n      <td>0.004</td>\n      <td>4.17</td>\n      <td>0.0</td>\n      <td>0.0</td>\n      <td>12.9</td>\n      <td>329.7</td>\n      <td>1024.9</td>\n      <td>68.7</td>\n      <td>11.5</td>\n      <td>0.90</td>\n      <td>4555.0</td>\n    </tr>\n    <tr>\n      <th>2011-01-02</th>\n      <td>4.3</td>\n      <td>2.8</td>\n      <td>3.5</td>\n      <td>4.1</td>\n      <td>0.3</td>\n      <td>1.6</td>\n      <td>-0.3</td>\n      <td>76.4</td>\n      <td>0.497</td>\n      <td>4.17</td>\n      <td>0.0</td>\n      <td>0.0</td>\n      <td>10.2</td>\n      <td>347.6</td>\n      <td>1028.2</td>\n      <td>88.3</td>\n      <td>22.9</td>\n      <td>0.93</td>\n      <td>6250.0</td>\n    </tr>\n    <tr>\n      <th>2011-01-03</th>\n      <td>4.1</td>\n      <td>0.3</td>\n      <td>2.6</td>\n      <td>4.1</td>\n      <td>0.3</td>\n      <td>1.6</td>\n      <td>-1.8</td>\n      <td>72.8</td>\n      <td>0.000</td>\n      <td>0.00</td>\n      <td>0.0</td>\n      <td>0.0</td>\n      <td>7.8</td>\n      <td>201.4</td>\n      <td>1024.6</td>\n      <td>84.4</td>\n      <td>15.8</td>\n      <td>0.97</td>\n      <td>7262.0</td>\n    </tr>\n    <tr>\n      <th>2011-01-04</th>\n      <td>4.8</td>\n      <td>1.8</td>\n      <td>3.8</td>\n      <td>3.3</td>\n      <td>0.3</td>\n      <td>1.8</td>\n      <td>1.4</td>\n      <td>84.4</td>\n      <td>0.002</td>\n      <td>8.33</td>\n      <td>0.0</td>\n      <td>0.0</td>\n      <td>17.5</td>\n      <td>209.9</td>\n      <td>1013.7</td>\n      <td>64.1</td>\n      <td>12.0</td>\n      <td>0.00</td>\n      <td>13430.0</td>\n    </tr>\n    <tr>\n      <th>2011-01-05</th>\n      <td>7.3</td>\n      <td>4.5</td>\n      <td>6.0</td>\n      <td>6.4</td>\n      <td>0.3</td>\n      <td>2.6</td>\n      <td>3.5</td>\n      <td>84.4</td>\n      <td>0.003</td>\n      <td>8.33</td>\n      <td>0.0</td>\n      <td>0.0</td>\n      <td>31.1</td>\n      <td>195.2</td>\n      <td>1000.6</td>\n      <td>67.4</td>\n      <td>17.4</td>\n      <td>0.04</td>\n      <td>13757.0</td>\n    </tr>\n    <tr>\n      <th>...</th>\n      <td>...</td>\n      <td>...</td>\n      <td>...</td>\n      <td>...</td>\n      <td>...</td>\n      <td>...</td>\n      <td>...</td>\n      <td>...</td>\n      <td>...</td>\n      <td>...</td>\n      <td>...</td>\n      <td>...</td>\n      <td>...</td>\n      <td>...</td>\n      <td>...</td>\n      <td>...</td>\n      <td>...</td>\n      <td>...</td>\n      <td>...</td>\n    </tr>\n    <tr>\n      <th>2024-01-27</th>\n      <td>8.6</td>\n      <td>1.1</td>\n      <td>5.0</td>\n      <td>6.6</td>\n      <td>-0.6</td>\n      <td>3.3</td>\n      <td>2.0</td>\n      <td>81.8</td>\n      <td>0.000</td>\n      <td>0.00</td>\n      <td>0.0</td>\n      <td>0.0</td>\n      <td>18.1</td>\n      <td>180.3</td>\n      <td>1032.7</td>\n      <td>33.1</td>\n      <td>15.9</td>\n      <td>0.56</td>\n      <td>16959.0</td>\n    </tr>\n    <tr>\n      <th>2024-01-28</th>\n      <td>11.5</td>\n      <td>3.1</td>\n      <td>7.0</td>\n      <td>11.5</td>\n      <td>0.5</td>\n      <td>5.4</td>\n      <td>4.1</td>\n      <td>82.4</td>\n      <td>0.000</td>\n      <td>0.00</td>\n      <td>0.0</td>\n      <td>0.0</td>\n      <td>13.8</td>\n      <td>169.7</td>\n      <td>1022.7</td>\n      <td>33.5</td>\n      <td>15.2</td>\n      <td>0.59</td>\n      <td>15540.0</td>\n    </tr>\n    <tr>\n      <th>2024-01-29</th>\n      <td>12.1</td>\n      <td>8.6</td>\n      <td>10.8</td>\n      <td>12.1</td>\n      <td>7.2</td>\n      <td>10.5</td>\n      <td>8.8</td>\n      <td>87.3</td>\n      <td>0.000</td>\n      <td>0.00</td>\n      <td>0.0</td>\n      <td>0.0</td>\n      <td>20.8</td>\n      <td>182.3</td>\n      <td>1022.0</td>\n      <td>95.9</td>\n      <td>8.4</td>\n      <td>0.62</td>\n      <td>22839.0</td>\n    </tr>\n    <tr>\n      <th>2024-01-30</th>\n      <td>12.5</td>\n      <td>7.6</td>\n      <td>9.1</td>\n      <td>12.5</td>\n      <td>4.9</td>\n      <td>7.5</td>\n      <td>5.3</td>\n      <td>77.5</td>\n      <td>0.000</td>\n      <td>0.00</td>\n      <td>0.0</td>\n      <td>0.0</td>\n      <td>29.0</td>\n      <td>257.7</td>\n      <td>1027.4</td>\n      <td>96.1</td>\n      <td>24.9</td>\n      <td>0.66</td>\n      <td>22303.0</td>\n    </tr>\n    <tr>\n      <th>2024-01-31</th>\n      <td>12.1</td>\n      <td>6.8</td>\n      <td>8.8</td>\n      <td>12.1</td>\n      <td>4.3</td>\n      <td>7.5</td>\n      <td>4.1</td>\n      <td>72.5</td>\n      <td>0.199</td>\n      <td>4.17</td>\n      <td>0.0</td>\n      <td>0.0</td>\n      <td>25.7</td>\n      <td>231.3</td>\n      <td>1029.7</td>\n      <td>98.2</td>\n      <td>21.9</td>\n      <td>0.69</td>\n      <td>24505.0</td>\n    </tr>\n  </tbody>\n</table>\n<p>4779 rows × 19 columns</p>\n</div>"
     },
     "execution_count": 1,
     "metadata": {},
     "output_type": "execute_result"
    }
   ],
   "source": [
    "import pandas as pd\n",
    "import numpy as np\n",
    "import keras\n",
    "from keras import layers\n",
    "from keras.models import Sequential\n",
    "from keras.optimizers import RMSprop\n",
    "from matplotlib import pyplot as plt\n",
    "from sklearn.preprocessing import StandardScaler\n",
    "\n",
    "# loading dataset into the program\n",
    "dataset1 = pd.read_csv('London 2000-01-01 to 2024-01-31.csv', index_col=\"datetime\")\n",
    "dataset2 = pd.read_csv(r'tfl-daily-cycle-hires.csv', index_col=\"Day\", parse_dates=[\"Day\"])\n",
    "\n",
    "# define the features we want to predict, focus on only max temperature now\n",
    "# features_to_pred = ['Number of Bicycle Hires']\n",
    "\n",
    "# Assuming ' Number of Bicycle Hires' is target variable \n",
    "target_variable = 'Number of Bicycle Hires'\n",
    "\n",
    "# filter dataset2 from 2011.1.1 to 2024.01.31\n",
    "start_date = pd.to_datetime('2011-01-01')\n",
    "dataset2.index = pd.to_datetime(dataset2.index)\n",
    "dataset2_filtered = dataset2[(dataset2.index >= start_date)]\n",
    "\n",
    "# filter dataset1 from 2011.1.1 to 2024.01.31 to fit with dataset2\n",
    "start_date = pd.to_datetime('2011-01-01')\n",
    "dataset1.index = pd.to_datetime(dataset1.index)\n",
    "dataset1_filtered = dataset1[(dataset1.index >= start_date)]\n",
    "\n",
    "# delete useless columns and columns with too many NaN values\n",
    "dataset1_filtered.drop(columns=['name', 'severerisk', 'windgust', \n",
    "                                'preciptype', 'precipprob', 'solarradiation', \n",
    "                                'solarenergy', 'uvindex', 'sunrise', \n",
    "                                'sunset', 'conditions', 'description',\t\n",
    "                                'icon', 'stations', 'sunset'], \n",
    "                       inplace=True)\n",
    "\n",
    "# combining the two datasets\n",
    "merged_data = pd.merge(dataset1_filtered, dataset2_filtered, left_index=True, right_index=True, how='outer')\n",
    "\n",
    "# change the values of bike hires to float\n",
    "merged_data['Number of Bicycle Hires'] = merged_data['Number of Bicycle Hires'].apply(lambda x: float(x.replace(',', '')))\n",
    "\n",
    "# show the merged dataset\n",
    "merged_data"
   ],
   "metadata": {
    "collapsed": false,
    "ExecuteTime": {
     "start_time": "2024-03-07T13:16:37.394057700Z"
    }
   },
   "id": "initial_id"
  },
  {
   "cell_type": "code",
   "execution_count": 7,
   "outputs": [
    {
     "name": "stdout",
     "output_type": "stream",
     "text": [
      "Correlation with Number of Bicycle Hires\n",
      "Number of Bicycle Hires    1.000000\n",
      "tempmax                    0.683059\n",
      "feelslikemax               0.673036\n",
      "feelslike                  0.647709\n",
      "temp                       0.645918\n",
      "feelslikemin               0.581622\n",
      "tempmin                    0.550394\n",
      "humidity                   0.521800\n",
      "dew                        0.449969\n",
      "cloudcover                 0.355150\n",
      "precipcover                0.320752\n",
      "visibility                 0.271726\n",
      "precip                     0.262178\n",
      "windspeed                  0.239852\n",
      "sealevelpressure           0.235981\n",
      "snowdepth                  0.108088\n",
      "snow                       0.080897\n",
      "winddir                    0.005170\n",
      "moonphase                  0.000795\n",
      "Name: Number of Bicycle Hires, dtype: float64\n"
     ]
    },
    {
     "data": {
      "text/plain": "            Number of Bicycle Hires  tempmax  feelslikemax  feelslike  temp  \\\ndatetime                                                                      \n2011-01-01                   4555.0      7.3           5.7        4.1   6.0   \n2011-01-02                   6250.0      4.3           4.1        1.6   3.5   \n2011-01-03                   7262.0      4.1           4.1        1.6   2.6   \n2011-01-04                  13430.0      4.8           3.3        1.8   3.8   \n2011-01-05                  13757.0      7.3           6.4        2.6   6.0   \n...                             ...      ...           ...        ...   ...   \n2024-01-27                  16959.0      8.6           6.6        3.3   5.0   \n2024-01-28                  15540.0     11.5          11.5        5.4   7.0   \n2024-01-29                  22839.0     12.1          12.1       10.5  10.8   \n2024-01-30                  22303.0     12.5          12.5        7.5   9.1   \n2024-01-31                  24505.0     12.1          12.1        7.5   8.8   \n\n            feelslikemin  tempmin  humidity  dew  cloudcover  precipcover  \\\ndatetime                                                                    \n2011-01-01           2.1      4.6      84.0  3.5        68.7         4.17   \n2011-01-02           0.3      2.8      76.4 -0.3        88.3         4.17   \n2011-01-03           0.3      0.3      72.8 -1.8        84.4         0.00   \n2011-01-04           0.3      1.8      84.4  1.4        64.1         8.33   \n2011-01-05           0.3      4.5      84.4  3.5        67.4         8.33   \n...                  ...      ...       ...  ...         ...          ...   \n2024-01-27          -0.6      1.1      81.8  2.0        33.1         0.00   \n2024-01-28           0.5      3.1      82.4  4.1        33.5         0.00   \n2024-01-29           7.2      8.6      87.3  8.8        95.9         0.00   \n2024-01-30           4.9      7.6      77.5  5.3        96.1         0.00   \n2024-01-31           4.3      6.8      72.5  4.1        98.2         4.17   \n\n            visibility  precip  windspeed  sealevelpressure  snowdepth  \ndatetime                                                                \n2011-01-01        11.5   0.004       12.9            1024.9        0.0  \n2011-01-02        22.9   0.497       10.2            1028.2        0.0  \n2011-01-03        15.8   0.000        7.8            1024.6        0.0  \n2011-01-04        12.0   0.002       17.5            1013.7        0.0  \n2011-01-05        17.4   0.003       31.1            1000.6        0.0  \n...                ...     ...        ...               ...        ...  \n2024-01-27        15.9   0.000       18.1            1032.7        0.0  \n2024-01-28        15.2   0.000       13.8            1022.7        0.0  \n2024-01-29         8.4   0.000       20.8            1022.0        0.0  \n2024-01-30        24.9   0.000       29.0            1027.4        0.0  \n2024-01-31        21.9   0.199       25.7            1029.7        0.0  \n\n[4779 rows x 16 columns]",
      "text/html": "<div>\n<style scoped>\n    .dataframe tbody tr th:only-of-type {\n        vertical-align: middle;\n    }\n\n    .dataframe tbody tr th {\n        vertical-align: top;\n    }\n\n    .dataframe thead th {\n        text-align: right;\n    }\n</style>\n<table border=\"1\" class=\"dataframe\">\n  <thead>\n    <tr style=\"text-align: right;\">\n      <th></th>\n      <th>Number of Bicycle Hires</th>\n      <th>tempmax</th>\n      <th>feelslikemax</th>\n      <th>feelslike</th>\n      <th>temp</th>\n      <th>feelslikemin</th>\n      <th>tempmin</th>\n      <th>humidity</th>\n      <th>dew</th>\n      <th>cloudcover</th>\n      <th>precipcover</th>\n      <th>visibility</th>\n      <th>precip</th>\n      <th>windspeed</th>\n      <th>sealevelpressure</th>\n      <th>snowdepth</th>\n    </tr>\n    <tr>\n      <th>datetime</th>\n      <th></th>\n      <th></th>\n      <th></th>\n      <th></th>\n      <th></th>\n      <th></th>\n      <th></th>\n      <th></th>\n      <th></th>\n      <th></th>\n      <th></th>\n      <th></th>\n      <th></th>\n      <th></th>\n      <th></th>\n      <th></th>\n    </tr>\n  </thead>\n  <tbody>\n    <tr>\n      <th>2011-01-01</th>\n      <td>4555.0</td>\n      <td>7.3</td>\n      <td>5.7</td>\n      <td>4.1</td>\n      <td>6.0</td>\n      <td>2.1</td>\n      <td>4.6</td>\n      <td>84.0</td>\n      <td>3.5</td>\n      <td>68.7</td>\n      <td>4.17</td>\n      <td>11.5</td>\n      <td>0.004</td>\n      <td>12.9</td>\n      <td>1024.9</td>\n      <td>0.0</td>\n    </tr>\n    <tr>\n      <th>2011-01-02</th>\n      <td>6250.0</td>\n      <td>4.3</td>\n      <td>4.1</td>\n      <td>1.6</td>\n      <td>3.5</td>\n      <td>0.3</td>\n      <td>2.8</td>\n      <td>76.4</td>\n      <td>-0.3</td>\n      <td>88.3</td>\n      <td>4.17</td>\n      <td>22.9</td>\n      <td>0.497</td>\n      <td>10.2</td>\n      <td>1028.2</td>\n      <td>0.0</td>\n    </tr>\n    <tr>\n      <th>2011-01-03</th>\n      <td>7262.0</td>\n      <td>4.1</td>\n      <td>4.1</td>\n      <td>1.6</td>\n      <td>2.6</td>\n      <td>0.3</td>\n      <td>0.3</td>\n      <td>72.8</td>\n      <td>-1.8</td>\n      <td>84.4</td>\n      <td>0.00</td>\n      <td>15.8</td>\n      <td>0.000</td>\n      <td>7.8</td>\n      <td>1024.6</td>\n      <td>0.0</td>\n    </tr>\n    <tr>\n      <th>2011-01-04</th>\n      <td>13430.0</td>\n      <td>4.8</td>\n      <td>3.3</td>\n      <td>1.8</td>\n      <td>3.8</td>\n      <td>0.3</td>\n      <td>1.8</td>\n      <td>84.4</td>\n      <td>1.4</td>\n      <td>64.1</td>\n      <td>8.33</td>\n      <td>12.0</td>\n      <td>0.002</td>\n      <td>17.5</td>\n      <td>1013.7</td>\n      <td>0.0</td>\n    </tr>\n    <tr>\n      <th>2011-01-05</th>\n      <td>13757.0</td>\n      <td>7.3</td>\n      <td>6.4</td>\n      <td>2.6</td>\n      <td>6.0</td>\n      <td>0.3</td>\n      <td>4.5</td>\n      <td>84.4</td>\n      <td>3.5</td>\n      <td>67.4</td>\n      <td>8.33</td>\n      <td>17.4</td>\n      <td>0.003</td>\n      <td>31.1</td>\n      <td>1000.6</td>\n      <td>0.0</td>\n    </tr>\n    <tr>\n      <th>...</th>\n      <td>...</td>\n      <td>...</td>\n      <td>...</td>\n      <td>...</td>\n      <td>...</td>\n      <td>...</td>\n      <td>...</td>\n      <td>...</td>\n      <td>...</td>\n      <td>...</td>\n      <td>...</td>\n      <td>...</td>\n      <td>...</td>\n      <td>...</td>\n      <td>...</td>\n      <td>...</td>\n    </tr>\n    <tr>\n      <th>2024-01-27</th>\n      <td>16959.0</td>\n      <td>8.6</td>\n      <td>6.6</td>\n      <td>3.3</td>\n      <td>5.0</td>\n      <td>-0.6</td>\n      <td>1.1</td>\n      <td>81.8</td>\n      <td>2.0</td>\n      <td>33.1</td>\n      <td>0.00</td>\n      <td>15.9</td>\n      <td>0.000</td>\n      <td>18.1</td>\n      <td>1032.7</td>\n      <td>0.0</td>\n    </tr>\n    <tr>\n      <th>2024-01-28</th>\n      <td>15540.0</td>\n      <td>11.5</td>\n      <td>11.5</td>\n      <td>5.4</td>\n      <td>7.0</td>\n      <td>0.5</td>\n      <td>3.1</td>\n      <td>82.4</td>\n      <td>4.1</td>\n      <td>33.5</td>\n      <td>0.00</td>\n      <td>15.2</td>\n      <td>0.000</td>\n      <td>13.8</td>\n      <td>1022.7</td>\n      <td>0.0</td>\n    </tr>\n    <tr>\n      <th>2024-01-29</th>\n      <td>22839.0</td>\n      <td>12.1</td>\n      <td>12.1</td>\n      <td>10.5</td>\n      <td>10.8</td>\n      <td>7.2</td>\n      <td>8.6</td>\n      <td>87.3</td>\n      <td>8.8</td>\n      <td>95.9</td>\n      <td>0.00</td>\n      <td>8.4</td>\n      <td>0.000</td>\n      <td>20.8</td>\n      <td>1022.0</td>\n      <td>0.0</td>\n    </tr>\n    <tr>\n      <th>2024-01-30</th>\n      <td>22303.0</td>\n      <td>12.5</td>\n      <td>12.5</td>\n      <td>7.5</td>\n      <td>9.1</td>\n      <td>4.9</td>\n      <td>7.6</td>\n      <td>77.5</td>\n      <td>5.3</td>\n      <td>96.1</td>\n      <td>0.00</td>\n      <td>24.9</td>\n      <td>0.000</td>\n      <td>29.0</td>\n      <td>1027.4</td>\n      <td>0.0</td>\n    </tr>\n    <tr>\n      <th>2024-01-31</th>\n      <td>24505.0</td>\n      <td>12.1</td>\n      <td>12.1</td>\n      <td>7.5</td>\n      <td>8.8</td>\n      <td>4.3</td>\n      <td>6.8</td>\n      <td>72.5</td>\n      <td>4.1</td>\n      <td>98.2</td>\n      <td>4.17</td>\n      <td>21.9</td>\n      <td>0.199</td>\n      <td>25.7</td>\n      <td>1029.7</td>\n      <td>0.0</td>\n    </tr>\n  </tbody>\n</table>\n<p>4779 rows × 16 columns</p>\n</div>"
     },
     "execution_count": 7,
     "metadata": {},
     "output_type": "execute_result"
    }
   ],
   "source": [
    "# Calculate correlation matrix \n",
    "correlation_matrix = merged_data.corr()\n",
    "# Extract correlations with the target variable\n",
    "correlation_with_target = correlation_matrix[target_variable].abs().sort_values(ascending=False)\n",
    "\n",
    "# Print the correlation results \n",
    "print(\"Correlation with\", target_variable) \n",
    "print(correlation_with_target)\n",
    "\n",
    "# Only retain features have high correlation with target variable\n",
    "features_used = list(correlation_with_target[correlation_with_target>0.1].index)\n",
    "merged_data = merged_data.loc[:,features_used]\n",
    "\n",
    "merged_data"
   ],
   "metadata": {
    "collapsed": false,
    "ExecuteTime": {
     "end_time": "2024-03-07T13:25:02.492686100Z",
     "start_time": "2024-03-07T13:25:02.456782100Z"
    }
   },
   "id": "9a0f18aa6f535e74"
  },
  {
   "cell_type": "code",
   "execution_count": 8,
   "outputs": [
    {
     "name": "stdout",
     "output_type": "stream",
     "text": [
      "Number of Bicycle Hires    0\n",
      "tempmax                    0\n",
      "feelslikemax               0\n",
      "feelslike                  0\n",
      "temp                       0\n",
      "feelslikemin               0\n",
      "tempmin                    0\n",
      "humidity                   0\n",
      "dew                        0\n",
      "cloudcover                 0\n",
      "precipcover                0\n",
      "visibility                 0\n",
      "precip                     0\n",
      "windspeed                  0\n",
      "sealevelpressure           0\n",
      "snowdepth                  0\n",
      "dtype: int64\n"
     ]
    }
   ],
   "source": [
    "# Filling in the missing data in columns by the previous day values\n",
    "merged_data=merged_data.ffill()\n",
    "\n",
    "# Checking again the number of missing data in every column after filling in the missing values\n",
    "print(merged_data.isnull().sum())"
   ],
   "metadata": {
    "collapsed": false,
    "ExecuteTime": {
     "end_time": "2024-03-07T13:25:23.461312700Z",
     "start_time": "2024-03-07T13:25:23.432390900Z"
    }
   },
   "id": "990760c12cce1e02"
  },
  {
   "cell_type": "code",
   "execution_count": 10,
   "outputs": [],
   "source": [
    "# Prepare the data required for the model\n",
    "# Normalise data\n",
    "scaler = StandardScaler()\n",
    "scaled_data = scaler.fit_transform(merged_data)\n",
    "scaled_data = pd.DataFrame(scaled_data, columns=merged_data.columns)\n",
    "# Specify the ratio of training set, validation set, and test set\n",
    "train_ratio = 0.7\n",
    "val_ratio = 0.15\n",
    "test_ratio = 0.15\n",
    "\n",
    "# Calculate the size of the training, validation, and testing sets\n",
    "train_size = int(len(scaled_data) * train_ratio)\n",
    "val_size = int(len(scaled_data) * val_ratio)\n",
    "\n",
    "lookback = 30  # use the data of last 30 days to predict that of next day\n",
    "\n",
    "# generate x_train and y_train\n",
    "x_train = []\n",
    "y_train = []\n",
    "for i in range(lookback, train_size + 1):\n",
    "    x_train.append(scaled_data[i - lookback:i])\n",
    "    y_train.append(scaled_data.loc[i, target_variable])\n",
    "x_train, y_train = np.array(x_train), np.array(y_train)\n",
    "\n",
    "# generate x_val and y_val\n",
    "x_val = []\n",
    "y_val = []\n",
    "for i in range(train_size, train_size + val_size + 1):\n",
    "    x_val.append(scaled_data[i - lookback:i])\n",
    "    y_val.append(scaled_data.loc[i, target_variable])\n",
    "x_val, y_val = np.array(x_val), np.array(y_val)\n",
    "\n",
    "# generate x_test and y_test\n",
    "x_test = []\n",
    "y_test = []\n",
    "for i in range(train_size + val_size, len(scaled_data)):\n",
    "    x_test.append(scaled_data[i - lookback:i])\n",
    "    y_test.append(scaled_data.loc[i, target_variable])\n",
    "x_test, y_test = np.array(x_test), np.array(y_test)"
   ],
   "metadata": {
    "collapsed": false,
    "ExecuteTime": {
     "end_time": "2024-03-07T13:27:12.625366900Z",
     "start_time": "2024-03-07T13:27:12.428739100Z"
    }
   },
   "id": "141ef7172bd22fcf"
  },
  {
   "cell_type": "code",
   "execution_count": 14,
   "outputs": [
    {
     "name": "stdout",
     "output_type": "stream",
     "text": [
      "Reference Error: [5713.5845481]\n"
     ]
    }
   ],
   "source": [
    "# A common sense based, non machine learning method  is \n",
    "# used to calculate the MAE (Mean Absolute Error) of a \n",
    "# common sense based method that always predicts that \n",
    "# the next day's data is equal to the previous day's data.\n",
    "data_to_pred = merged_data.loc[:, [target_variable]]\n",
    "diff_data_val = np.diff(data_to_pred, axis=0)[lookback + train_size:train_size + val_size]\n",
    "mae = np.mean(np.abs(diff_data_val), axis=0)\n",
    "print(\"Reference Error:\", mae)\n",
    "\n",
    "pd.DataFrame([mae], columns=data_to_pred.columns)\n",
    "std = data_to_pred[:].std(axis=0)"
   ],
   "metadata": {
    "collapsed": false,
    "ExecuteTime": {
     "end_time": "2024-03-07T13:29:27.714231400Z",
     "start_time": "2024-03-07T13:29:27.690295100Z"
    }
   },
   "id": "f69db9560c8d5f64"
  },
  {
   "cell_type": "code",
   "execution_count": 15,
   "outputs": [
    {
     "name": "stdout",
     "output_type": "stream",
     "text": [
      "Model: \"sequential\"\n",
      "_________________________________________________________________\n",
      " Layer (type)                Output Shape              Param #   \n",
      "=================================================================\n",
      " gru (GRU)                   (None, None, 128)         56064     \n",
      "                                                                 \n",
      " gru_1 (GRU)                 (None, 64)                37248     \n",
      "                                                                 \n",
      " dense (Dense)               (None, 1)                 65        \n",
      "                                                                 \n",
      "=================================================================\n",
      "Total params: 93,377\n",
      "Trainable params: 93,377\n",
      "Non-trainable params: 0\n",
      "_________________________________________________________________\n",
      "Epoch 1/20\n",
      "26/26 [==============================] - 11s 204ms/step - loss: 0.5451 - val_loss: 0.6530\n",
      "Epoch 2/20\n",
      "26/26 [==============================] - 4s 168ms/step - loss: 0.4827 - val_loss: 0.5882\n",
      "Epoch 3/20\n",
      "26/26 [==============================] - 4s 167ms/step - loss: 0.4690 - val_loss: 0.5866\n",
      "Epoch 4/20\n",
      "26/26 [==============================] - 4s 166ms/step - loss: 0.4590 - val_loss: 0.5628\n",
      "Epoch 5/20\n",
      "26/26 [==============================] - 5s 174ms/step - loss: 0.4452 - val_loss: 0.5485\n",
      "Epoch 6/20\n",
      "26/26 [==============================] - 5s 182ms/step - loss: 0.4450 - val_loss: 0.5537\n",
      "Epoch 7/20\n",
      "26/26 [==============================] - 5s 184ms/step - loss: 0.4347 - val_loss: 0.5478\n",
      "Epoch 8/20\n",
      "26/26 [==============================] - 5s 182ms/step - loss: 0.4240 - val_loss: 0.5519\n",
      "Epoch 9/20\n",
      "26/26 [==============================] - 5s 183ms/step - loss: 0.4111 - val_loss: 0.5621\n",
      "Epoch 10/20\n",
      "26/26 [==============================] - 5s 182ms/step - loss: 0.4092 - val_loss: 0.5487\n",
      "Epoch 11/20\n",
      "26/26 [==============================] - 5s 183ms/step - loss: 0.3998 - val_loss: 0.5657\n",
      "Epoch 12/20\n",
      "26/26 [==============================] - 5s 184ms/step - loss: 0.4014 - val_loss: 0.5559\n",
      "Epoch 13/20\n",
      "26/26 [==============================] - 5s 183ms/step - loss: 0.4018 - val_loss: 0.5601\n",
      "Epoch 14/20\n",
      "26/26 [==============================] - 5s 183ms/step - loss: 0.3929 - val_loss: 0.5643\n",
      "Epoch 15/20\n",
      "26/26 [==============================] - 5s 182ms/step - loss: 0.3934 - val_loss: 0.5844\n",
      "Epoch 16/20\n",
      "26/26 [==============================] - 5s 182ms/step - loss: 0.3908 - val_loss: 0.6155\n",
      "Epoch 17/20\n",
      "26/26 [==============================] - 5s 183ms/step - loss: 0.3861 - val_loss: 0.5690\n",
      "Epoch 18/20\n",
      "26/26 [==============================] - 5s 185ms/step - loss: 0.3828 - val_loss: 0.5930\n",
      "Epoch 19/20\n",
      "26/26 [==============================] - 5s 184ms/step - loss: 0.3892 - val_loss: 0.5631\n",
      "Epoch 20/20\n",
      "26/26 [==============================] - 5s 181ms/step - loss: 0.3772 - val_loss: 0.5756\n"
     ]
    },
    {
     "data": {
      "text/plain": "<Figure size 640x480 with 1 Axes>",
      "image/png": "[encoded data removed]"
     },
     "metadata": {},
     "output_type": "display_data"
    },
    {
     "name": "stdout",
     "output_type": "stream",
     "text": [
      "Test error: Number of Bicycle Hires    3778.993455\n",
      "dtype: float64\n"
     ]
    }
   ],
   "source": [
    "# Train and evaluate a stacked GRU model using dropout regularization\n",
    "model = Sequential()\n",
    "model.add(layers.GRU(128,\n",
    "                     dropout=0.2,\n",
    "                     recurrent_dropout=0.5,\n",
    "                     return_sequences=True,\n",
    "                     input_shape=(None, scaled_data.shape[-1])))\n",
    "model.add(layers.GRU(64,\n",
    "                     activation='relu',\n",
    "                     dropout=0.2,\n",
    "                     recurrent_dropout=0.5))\n",
    "model.add(layers.Dense(data_to_pred.shape[-1]))\n",
    "model.summary()\n",
    "\n",
    "# Compile and train the model\n",
    "model.compile(optimizer=RMSprop(learning_rate=0.002), loss='mae')\n",
    "history = model.fit(x_train, y_train,\n",
    "                    epochs=20,\n",
    "                    batch_size=128,\n",
    "                    validation_data=(x_val, y_val))\n",
    "\n",
    "# paint the result\n",
    "loss = history.history['loss']\n",
    "val_loss = history.history['val_loss']\n",
    "epochs = range(len(loss))\n",
    "plt.figure()\n",
    "plt.plot(epochs, loss, 'bo', label='Training loss')\n",
    "plt.plot(epochs, val_loss, 'b', label='Validation loss')\n",
    "plt.title('Training and validation loss')\n",
    "plt.legend()\n",
    "plt.show()\n",
    "\n",
    "# test the model\n",
    "score = model.evaluate(x_test, y_test, verbose=0)\n",
    "# denormalization the error, which shows the average error\n",
    "# measured in Celsius degree.\n",
    "print('Test error:', score * std)"
   ],
   "metadata": {
    "collapsed": false,
    "ExecuteTime": {
     "end_time": "2024-03-07T13:31:10.843666900Z",
     "start_time": "2024-03-07T13:29:29.137107600Z"
    }
   },
   "id": "67977d7fa18d522b"
  },
  {
   "cell_type": "code",
   "execution_count": 21,
   "outputs": [
    {
     "name": "stdout",
     "output_type": "stream",
     "text": [
      "Model: \"sequential_6\"\n",
      "_________________________________________________________________\n",
      " Layer (type)                Output Shape              Param #   \n",
      "=================================================================\n",
      " lstm_10 (LSTM)              (None, None, 128)         74240     \n",
      "                                                                 \n",
      " lstm_11 (LSTM)              (None, 64)                49408     \n",
      "                                                                 \n",
      " dense_6 (Dense)             (None, 1)                 65        \n",
      "                                                                 \n",
      "=================================================================\n",
      "Total params: 123,713\n",
      "Trainable params: 123,713\n",
      "Non-trainable params: 0\n",
      "_________________________________________________________________\n",
      "Epoch 1/20\n",
      "26/26 [==============================] - 12s 222ms/step - loss: 0.6143 - val_loss: 0.6176\n",
      "Epoch 2/20\n",
      "26/26 [==============================] - 5s 194ms/step - loss: 0.4940 - val_loss: 0.6963\n",
      "Epoch 3/20\n",
      "26/26 [==============================] - 5s 199ms/step - loss: 0.4845 - val_loss: 0.6314\n",
      "Epoch 4/20\n",
      "26/26 [==============================] - 5s 201ms/step - loss: 0.4694 - val_loss: 0.6234\n",
      "Epoch 5/20\n",
      "26/26 [==============================] - 6s 212ms/step - loss: 0.4635 - val_loss: 0.6288\n",
      "Epoch 6/20\n",
      "26/26 [==============================] - 6s 212ms/step - loss: 0.4655 - val_loss: 0.5997\n",
      "Epoch 7/20\n",
      "26/26 [==============================] - 5s 211ms/step - loss: 0.4545 - val_loss: 0.5563\n",
      "Epoch 8/20\n",
      "26/26 [==============================] - 5s 210ms/step - loss: 0.4449 - val_loss: 0.6176\n",
      "Epoch 9/20\n",
      "26/26 [==============================] - 5s 212ms/step - loss: 0.4341 - val_loss: 0.5995\n",
      "Epoch 10/20\n",
      "26/26 [==============================] - 5s 212ms/step - loss: 0.4247 - val_loss: 0.5404\n",
      "Epoch 11/20\n",
      "26/26 [==============================] - 6s 212ms/step - loss: 0.4152 - val_loss: 0.5670\n",
      "Epoch 12/20\n",
      "26/26 [==============================] - 5s 211ms/step - loss: 0.4143 - val_loss: 0.5684\n",
      "Epoch 13/20\n",
      "26/26 [==============================] - 5s 211ms/step - loss: 0.3980 - val_loss: 0.5489\n",
      "Epoch 14/20\n",
      "26/26 [==============================] - 5s 210ms/step - loss: 0.3922 - val_loss: 0.6115\n",
      "Epoch 15/20\n",
      "26/26 [==============================] - 5s 211ms/step - loss: 0.3880 - val_loss: 0.5601\n",
      "Epoch 16/20\n",
      "26/26 [==============================] - 5s 211ms/step - loss: 0.3802 - val_loss: 0.5349\n",
      "Epoch 17/20\n",
      "26/26 [==============================] - 5s 210ms/step - loss: 0.3772 - val_loss: 0.5897\n",
      "Epoch 18/20\n",
      "26/26 [==============================] - 5s 212ms/step - loss: 0.3760 - val_loss: 0.5400\n",
      "Epoch 19/20\n",
      "26/26 [==============================] - 5s 211ms/step - loss: 0.3730 - val_loss: 0.5861\n",
      "Epoch 20/20\n",
      "26/26 [==============================] - 5s 211ms/step - loss: 0.3661 - val_loss: 0.5688\n"
     ]
    },
    {
     "data": {
      "text/plain": "<Figure size 640x480 with 1 Axes>",
      "image/png": "[encoded data removed]"
     },
     "metadata": {},
     "output_type": "display_data"
    },
    {
     "name": "stdout",
     "output_type": "stream",
     "text": [
      "Test error: Number of Bicycle Hires    3749.913451\n",
      "dtype: float64\n"
     ]
    }
   ],
   "source": [
    "# Train and evaluate a stacked LSTM model using dropout regularization\n",
    "model = Sequential()\n",
    "model.add(layers.LSTM(128,\n",
    "                      dropout=0.1,\n",
    "                      recurrent_dropout=0.5,\n",
    "                      return_sequences=True,\n",
    "                      input_shape=(None, scaled_data.shape[-1])))\n",
    "model.add(layers.LSTM(64,\n",
    "                      activation='relu',\n",
    "                      dropout=0.1,\n",
    "                      recurrent_dropout=0.5))\n",
    "model.add(layers.Dense(data_to_pred.shape[-1]))\n",
    "model.summary()\n",
    "\n",
    "# compile and train the model\n",
    "model.compile(optimizer=RMSprop(learning_rate=0.0025),\n",
    "              loss='mae')\n",
    "history = model.fit(x_train, y_train,\n",
    "                    epochs=20,\n",
    "                    batch_size=128,\n",
    "                    validation_data=(x_val, y_val))\n",
    "\n",
    "# paint the result\n",
    "loss = history.history['loss']\n",
    "val_loss = history.history['val_loss']\n",
    "epochs = range(len(loss))\n",
    "plt.figure()\n",
    "plt.plot(epochs, loss, 'bo', label='Training loss')\n",
    "plt.plot(epochs, val_loss, 'b', label='Validation loss')\n",
    "plt.title('Training and validation loss')\n",
    "plt.legend()\n",
    "plt.show()\n",
    "\n",
    "# test the model\n",
    "score = model.evaluate(x_test, y_test, verbose=0)\n",
    "# denormalization the error, which shows the average error\n",
    "# measured in Celsius degree.\n",
    "print('Test error:', score * std)"
   ],
   "metadata": {
    "collapsed": false,
    "ExecuteTime": {
     "end_time": "2024-03-07T13:46:51.189126400Z",
     "start_time": "2024-03-07T13:44:54.820706200Z"
    }
   },
   "id": "e1fb9f8d249efc78"
  },
  {
   "cell_type": "code",
   "execution_count": null,
   "outputs": [],
   "source": [],
   "metadata": {
    "collapsed": false
   },
   "id": "a417c96ffcad7162"
  }
 ],
 "metadata": {
  "kernelspec": {
   "display_name": "Python 3",
   "language": "python",
   "name": "python3"
  },
  "language_info": {
   "codemirror_mode": {
    "name": "ipython",
    "version": 2
   },
   "file_extension": ".py",
   "mimetype": "text/x-python",
   "name": "python",
   "nbconvert_exporter": "python",
   "pygments_lexer": "ipython2",
   "version": "2.7.6"
  }
 },
 "nbformat": 4,
 "nbformat_minor": 5
}
