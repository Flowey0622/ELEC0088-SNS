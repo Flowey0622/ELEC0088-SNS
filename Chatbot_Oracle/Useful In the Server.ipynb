{
 "cells": [
  {
   "cell_type": "code",
   "execution_count": 2,
   "outputs": [],
   "source": [
    "import pandas as pd\n",
    "from Oracle_ML_Model import MyModel\n",
    "\n",
    "# define a date in test_set as \"today\" (between 2022-2-19 to 2024-1-24)\n",
    "TODAY = pd.to_datetime('2022-2-25')\n",
    "\n",
    "target_features = ['tempmax', 'tempmin', 'windspeed', 'precip', 'Number of Bicycle Hires']\n",
    "features_unit = ['($C°$)', '($C°$)', '($m / s$)', '($mm$)', '']"
   ],
   "metadata": {
    "collapsed": false,
    "ExecuteTime": {
     "end_time": "2024-03-26T09:22:09.950800400Z",
     "start_time": "2024-03-26T09:22:06.608052500Z"
    }
   },
   "id": "17ea42e352c30f64"
  },
  {
   "cell_type": "code",
   "execution_count": 3,
   "outputs": [
    {
     "name": "stdout",
     "output_type": "stream",
     "text": [
      "Correlation with tempmax\n",
      "tempmax                    1.000000\n",
      "feelslikemax               0.992503\n",
      "temp                       0.974570\n",
      "feelslike                  0.968370\n",
      "feelslikemin               0.896814\n",
      "tempmin                    0.884250\n",
      "dew                        0.822998\n",
      "Number of Bicycle Hires    0.665967\n",
      "humidity                   0.495428\n",
      "cloudcover                 0.285385\n",
      "visibility                 0.278307\n",
      "snowdepth                  0.160095\n",
      "precipcover                0.150653\n",
      "snow                       0.116005\n",
      "sealevelpressure           0.088843\n",
      "windspeed                  0.073363\n",
      "precip                     0.067589\n",
      "winddir                    0.013696\n",
      "moonphase                  0.002074\n",
      "Name: tempmax, dtype: float64\n",
      "Correlation with tempmin\n",
      "tempmin                    1.000000\n",
      "feelslikemin               0.984694\n",
      "temp                       0.958087\n",
      "feelslike                  0.951249\n",
      "dew                        0.922246\n",
      "feelslikemax               0.885144\n",
      "tempmax                    0.884250\n",
      "Number of Bicycle Hires    0.532482\n",
      "humidity                   0.281896\n",
      "visibility                 0.198778\n",
      "snowdepth                  0.160059\n",
      "snow                       0.115300\n",
      "sealevelpressure           0.035643\n",
      "precip                     0.032882\n",
      "precipcover                0.017508\n",
      "cloudcover                 0.015878\n",
      "windspeed                  0.015602\n",
      "winddir                    0.011082\n",
      "moonphase                  0.007465\n",
      "Name: tempmin, dtype: float64\n",
      "Correlation with windspeed\n",
      "windspeed                  1.000000\n",
      "sealevelpressure           0.414445\n",
      "precipcover                0.252459\n",
      "Number of Bicycle Hires    0.220491\n",
      "visibility                 0.192334\n",
      "precip                     0.161901\n",
      "cloudcover                 0.136678\n",
      "winddir                    0.132676\n",
      "tempmax                    0.073363\n",
      "feelslikemax               0.072854\n",
      "feelslike                  0.067671\n",
      "feelslikemin               0.066579\n",
      "snowdepth                  0.045573\n",
      "temp                       0.029251\n",
      "snow                       0.026492\n",
      "moonphase                  0.021000\n",
      "dew                        0.016090\n",
      "tempmin                    0.015602\n",
      "humidity                   0.006244\n",
      "Name: windspeed, dtype: float64\n",
      "Correlation with precip\n",
      "precip                     1.000000\n",
      "precipcover                0.442729\n",
      "sealevelpressure           0.370105\n",
      "humidity                   0.323088\n",
      "Number of Bicycle Hires    0.252936\n",
      "cloudcover                 0.181702\n",
      "windspeed                  0.161901\n",
      "visibility                 0.145419\n",
      "dew                        0.121439\n",
      "tempmax                    0.067589\n",
      "feelslikemax               0.058981\n",
      "tempmin                    0.032882\n",
      "feelslike                  0.030976\n",
      "temp                       0.028171\n",
      "winddir                    0.014371\n",
      "feelslikemin               0.012047\n",
      "snow                       0.006946\n",
      "snowdepth                  0.004422\n",
      "moonphase                  0.001304\n",
      "Name: precip, dtype: float64\n",
      "Correlation with Number of Bicycle Hires\n",
      "Number of Bicycle Hires    1.000000\n",
      "tempmax                    0.665967\n",
      "feelslikemax               0.656190\n",
      "feelslike                  0.628271\n",
      "temp                       0.627140\n",
      "feelslikemin               0.561291\n",
      "tempmin                    0.532482\n",
      "humidity                   0.520494\n",
      "dew                        0.432006\n",
      "cloudcover                 0.346182\n",
      "precipcover                0.307268\n",
      "visibility                 0.263627\n",
      "precip                     0.252936\n",
      "sealevelpressure           0.236857\n",
      "windspeed                  0.220491\n",
      "snowdepth                  0.133447\n",
      "snow                       0.087328\n",
      "winddir                    0.004627\n",
      "moonphase                  0.003145\n",
      "Name: Number of Bicycle Hires, dtype: float64\n"
     ]
    },
    {
     "name": "stderr",
     "output_type": "stream",
     "text": [
      "D:\\Py_workspace\\ELEC0088-SNS\\Chatbot_Oracle\\Oracle_ML_Model.py:36: SettingWithCopyWarning: \n",
      "A value is trying to be set on a copy of a slice from a DataFrame\n",
      "\n",
      "See the caveats in the documentation: https://pandas.pydata.org/pandas-docs/stable/user_guide/indexing.html#returning-a-view-versus-a-copy\n",
      "  dataset1_filtered.drop(columns=['name', 'severerisk', 'windgust',\n",
      "D:\\Py_workspace\\ELEC0088-SNS\\Chatbot_Oracle\\Oracle_ML_Model.py:59: FutureWarning: Setting an item of incompatible dtype is deprecated and will raise in a future error of pandas. Value 'MinMaxScaler()' has dtype incompatible with float64, please explicitly cast to a compatible dtype first.\n",
      "  self.__scalers[feature] = scaler\n"
     ]
    }
   ],
   "source": [
    "my_model = MyModel(TODAY)"
   ],
   "metadata": {
    "collapsed": false,
    "ExecuteTime": {
     "end_time": "2024-03-26T09:22:34.557105Z",
     "start_time": "2024-03-26T09:22:20.142170300Z"
    }
   },
   "id": "8d5696627cc69bef"
  },
  {
   "cell_type": "code",
   "execution_count": 3,
   "outputs": [
    {
     "name": "stdout",
     "output_type": "stream",
     "text": [
      "1/1 [==============================] - 1s 730ms/step\n"
     ]
    },
    {
     "ename": "TypeError",
     "evalue": "unsupported format string passed to numpy.ndarray.__format__",
     "output_type": "error",
     "traceback": [
      "\u001B[1;31m---------------------------------------------------------------------------\u001B[0m",
      "\u001B[1;31mTypeError\u001B[0m                                 Traceback (most recent call last)",
      "Cell \u001B[1;32mIn[3], line 6\u001B[0m\n\u001B[0;32m      4\u001B[0m value \u001B[38;5;241m=\u001B[39m my_model\u001B[38;5;241m.\u001B[39mpredict(date, feature)\n\u001B[0;32m      5\u001B[0m i \u001B[38;5;241m=\u001B[39m target_features\u001B[38;5;241m.\u001B[39mindex(feature)\n\u001B[1;32m----> 6\u001B[0m \u001B[38;5;28mprint\u001B[39m(\u001B[38;5;124mr\u001B[39m\u001B[38;5;124m'\u001B[39m\u001B[38;5;124mThe \u001B[39m\u001B[38;5;124m'\u001B[39m \u001B[38;5;241m+\u001B[39m feature \u001B[38;5;241m+\u001B[39m \u001B[38;5;124mf\u001B[39m\u001B[38;5;124m'\u001B[39m\u001B[38;5;124m on Day\u001B[39m\u001B[38;5;132;01m{\u001B[39;00mdate\u001B[38;5;132;01m}\u001B[39;00m\u001B[38;5;124m is \u001B[39m\u001B[38;5;132;01m{\u001B[39;00mvalue\u001B[38;5;132;01m:\u001B[39;00m\u001B[38;5;124m.2f\u001B[39m\u001B[38;5;132;01m}\u001B[39;00m\u001B[38;5;124m \u001B[39m\u001B[38;5;124m'\u001B[39m \u001B[38;5;241m+\u001B[39m features_unit[i])\n",
      "\u001B[1;31mTypeError\u001B[0m: unsupported format string passed to numpy.ndarray.__format__"
     ]
    }
   ],
   "source": [
    "date = 7    # depending on which day's data the client is asking for\n",
    "feature = 'tempmax' # depending on which feature the client is asking for\n",
    "\n",
    "#value = my_model.predict(date, feature)\n",
    "#print(r'The ' + feature + f' on Day{date} is {value:.2f} ' + features_unit[i])\n",
    "# Note:The printed unit here($C°$) are not outputted in Latex format, but don't worry, this is a problem with jupyter notebook, and it will be converted normally in the .py file."
   ],
   "metadata": {
    "collapsed": false,
    "ExecuteTime": {
     "end_time": "2024-03-26T09:13:45.982010Z",
     "start_time": "2024-03-26T09:13:43.648903100Z"
    }
   },
   "id": "bacfe901dc6c0016"
  },
  {
   "cell_type": "code",
   "execution_count": 23,
   "outputs": [
    {
     "name": "stdout",
     "output_type": "stream",
     "text": [
      "1/1 [==============================] - 1s 625ms/step\n"
     ]
    },
    {
     "data": {
      "text/plain": "array([[20.171183]], dtype=float32)"
     },
     "execution_count": 23,
     "metadata": {},
     "output_type": "execute_result"
    }
   ],
   "source": [
    "my_model.predict(4, target_features[2])"
   ],
   "metadata": {
    "collapsed": false,
    "ExecuteTime": {
     "end_time": "2024-03-26T09:24:12.841147500Z",
     "start_time": "2024-03-26T09:24:12.164081400Z"
    }
   },
   "id": "abad421ce48942bf"
  },
  {
   "cell_type": "markdown",
   "source": [],
   "metadata": {
    "collapsed": false
   },
   "id": "952ef28d9cc59cdc"
  }
 ],
 "metadata": {
  "kernelspec": {
   "display_name": "Python 3",
   "language": "python",
   "name": "python3"
  },
  "language_info": {
   "codemirror_mode": {
    "name": "ipython",
    "version": 2
   },
   "file_extension": ".py",
   "mimetype": "text/x-python",
   "name": "python",
   "nbconvert_exporter": "python",
   "pygments_lexer": "ipython2",
   "version": "2.7.6"
  }
 },
 "nbformat": 4,
 "nbformat_minor": 5
}
