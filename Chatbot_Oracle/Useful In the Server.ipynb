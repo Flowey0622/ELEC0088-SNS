{
 "cells": [
  {
   "cell_type": "code",
   "execution_count": 1,
   "outputs": [],
   "source": [
    "import pandas as pd\n",
    "from Oracle_ML_Model import MyModel\n",
    "\n",
    "# define a date in test_set as \"today\" (between 2022-2-19 to 2024-1-24)\n",
    "TODAY = pd.to_datetime('2022-2-25')\n",
    "\n",
    "target_features = ['tempmax', 'tempmin', 'windspeed', 'precip', 'Number of Bicycle Hires']\n",
    "features_unit = ['($C°$)', '($C°$)', '($m / s$)', '($mm$)', '']"
   ],
   "metadata": {
    "collapsed": false,
    "ExecuteTime": {
     "end_time": "2024-03-21T11:24:18.965447400Z",
     "start_time": "2024-03-21T11:24:15.826255100Z"
    }
   },
   "id": "17ea42e352c30f64"
  },
  {
   "cell_type": "code",
   "execution_count": 2,
   "outputs": [
    {
     "name": "stderr",
     "output_type": "stream",
     "text": [
      "D:\\Py_workspace\\ELEC0088-SNS\\Chatbot_Oracle\\Oracle_ML_Model.py:26: SettingWithCopyWarning: \n",
      "A value is trying to be set on a copy of a slice from a DataFrame\n",
      "\n",
      "See the caveats in the documentation: https://pandas.pydata.org/pandas-docs/stable/user_guide/indexing.html#returning-a-view-versus-a-copy\n",
      "  dataset1_filtered.drop(columns=['name', 'severerisk', 'windgust',\n"
     ]
    }
   ],
   "source": [
    "my_model = MyModel(TODAY)"
   ],
   "metadata": {
    "collapsed": false,
    "ExecuteTime": {
     "end_time": "2024-03-21T11:24:21.905045600Z",
     "start_time": "2024-03-21T11:24:18.970432800Z"
    }
   },
   "id": "8d5696627cc69bef"
  },
  {
   "cell_type": "code",
   "execution_count": 3,
   "outputs": [
    {
     "name": "stdout",
     "output_type": "stream",
     "text": [
      "1/1 [==============================] - 1s 846ms/step\n",
      "The tempmax on Day7 is -2.76 ($C°$)\n"
     ]
    }
   ],
   "source": [
    "date = 7    # depending on which day's data the client is asking for\n",
    "feature = 'tempmax' # depending on which feature the client is asking for\n",
    "\n",
    "value = my_model.predict(date, feature)\n",
    "i = target_features.index(feature)\n",
    "print(r'The ' + feature + f' on Day{date} is {value:.2f} ' + features_unit[i])\n",
    "# Note:The printed unit here($C°$) are not outputted in Latex format, but don't worry, this is a problem with jupyter notebook, and it will be converted normally in the .py file."
   ],
   "metadata": {
    "collapsed": false,
    "ExecuteTime": {
     "end_time": "2024-03-21T11:24:22.833840300Z",
     "start_time": "2024-03-21T11:24:21.913024Z"
    }
   },
   "id": "bacfe901dc6c0016"
  },
  {
   "cell_type": "markdown",
   "source": [],
   "metadata": {
    "collapsed": false
   },
   "id": "952ef28d9cc59cdc"
  }
 ],
 "metadata": {
  "kernelspec": {
   "display_name": "Python 3",
   "language": "python",
   "name": "python3"
  },
  "language_info": {
   "codemirror_mode": {
    "name": "ipython",
    "version": 2
   },
   "file_extension": ".py",
   "mimetype": "text/x-python",
   "name": "python",
   "nbconvert_exporter": "python",
   "pygments_lexer": "ipython2",
   "version": "2.7.6"
  }
 },
 "nbformat": 4,
 "nbformat_minor": 5
}
