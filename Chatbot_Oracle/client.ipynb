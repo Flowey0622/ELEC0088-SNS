{
 "cells": [
  {
   "cell_type": "code",
   "execution_count": null,
   "metadata": {},
   "outputs": [],
   "source": [
    "import socket\n",
    "\n",
    "def main():\n",
    "    host = \"127.0.0.1\"\n",
    "    port = 12345\n",
    "\n",
    "    client_socket = socket.socket(socket.AF_INET, socket.SOCK_STREAM)\n",
    "    client_socket.connect((host, port))\n",
    "\n",
    "    try:\n",
    "         # Receive and print the initial greeting from the server\n",
    "        initial_greeting = client_socket.recv(1024).decode(\"utf-8\")\n",
    "        print(\"Oracle: \", initial_greeting)\n",
    "\n",
    "        while True:\n",
    "            user_input = input(\"You: \")\n",
    "            client_socket.send(user_input.encode(\"utf-8\"))\n",
    "\n",
    "            data = client_socket.recv(1024).decode(\"utf-8\")\n",
    "            if not data:\n",
    "                print(\"Server closed the connection\")\n",
    "                break\n",
    "\n",
    "            print(\"Oracle: \", data)\n",
    "\n",
    "            if \"Thank you for consulting the Oracle\" in data:\n",
    "                break\n",
    "\n",
    "    finally:\n",
    "        client_socket.close()\n",
    "\n",
    "if __name__ == \"__main__\":\n",
    "    main()"
   ]
  }
 ],
 "metadata": {
  "kernelspec": {
   "display_name": "base",
   "language": "python",
   "name": "python3"
  },
  "language_info": {
   "codemirror_mode": {
    "name": "ipython",
    "version": 3
   },
   "file_extension": ".py",
   "mimetype": "text/x-python",
   "name": "python",
   "nbconvert_exporter": "python",
   "pygments_lexer": "ipython3",
   "version": "3.10.9"
  }
 },
 "nbformat": 4,
 "nbformat_minor": 2
}
