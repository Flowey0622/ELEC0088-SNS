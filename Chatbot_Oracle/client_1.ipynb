{
 "cells": [
  {
   "cell_type": "code",
   "execution_count": 2,
   "id": "2d7c2325-43a9-4779-b2c2-65138bc15e41",
   "metadata": {},
   "outputs": [
    {
     "name": "stdout",
     "output_type": "stream",
     "text": [
      "Oracle:  Hello, I'm Oracle, your weather and bike hire prediction assistant. To provide accurate predictions, I need to know today's date. Please enter the date in YYYY-MM-DD format.\n"
     ]
    },
    {
     "name": "stdin",
     "output_type": "stream",
     "text": [
      "You:  2023-08-32\n"
     ]
    },
    {
     "name": "stdout",
     "output_type": "stream",
     "text": [
      "Oracle:  The date format is incorrect. Please enter the date in YYYY-MM-DD format.\n"
     ]
    },
    {
     "name": "stdin",
     "output_type": "stream",
     "text": [
      "You:  2023-08-22\n"
     ]
    },
    {
     "name": "stdout",
     "output_type": "stream",
     "text": [
      "Oracle:  Thank you. I have set the date to 2023-08-22. You can now ask me about the weather or bike hire numbers for the next 7 days. For example, 'What's the weather like on day 3?' or 'Predict bike hires for day 5.'\n"
     ]
    },
    {
     "name": "stdin",
     "output_type": "stream",
     "text": [
      "You:  how is the weather for tomorrow?\n"
     ]
    },
    {
     "name": "stdout",
     "output_type": "stream",
     "text": [
      "Oracle:  For Day 1, the forecast is: high of 22.0°C, low of 15.2°C, wind speed at 18.4 km/h, and precipitation levels around 0.0 mm.\n"
     ]
    },
    {
     "name": "stdin",
     "output_type": "stream",
     "text": [
      "You:  what is the estimation for number of bike hires on day 2?\n"
     ]
    },
    {
     "name": "stdout",
     "output_type": "stream",
     "text": [
      "Oracle:  For Day 2, the expected number of bike hires is approximately 32119.\n"
     ]
    },
    {
     "name": "stdin",
     "output_type": "stream",
     "text": [
      "You:  what is the weather like on day 5?\n"
     ]
    },
    {
     "name": "stdout",
     "output_type": "stream",
     "text": [
      "Oracle:  For Day 5, the forecast is: high of 21.7°C, low of 14.6°C, wind speed at 19.9 km/h, and precipitation levels around 0.0 mm.\n"
     ]
    },
    {
     "name": "stdin",
     "output_type": "stream",
     "text": [
      "You:  thank you\n"
     ]
    },
    {
     "name": "stdout",
     "output_type": "stream",
     "text": [
      "Oracle:  I'm sorry, I didn't understand. Ask about weather or bike hires.\n"
     ]
    },
    {
     "name": "stdin",
     "output_type": "stream",
     "text": [
      "You:  goodbye\n"
     ]
    },
    {
     "name": "stdout",
     "output_type": "stream",
     "text": [
      "Oracle:  Thank you for consulting the Oracle. Have a great day!\n"
     ]
    }
   ],
   "source": [
    "import socket\n",
    "\n",
    "def main():\n",
    "    host = \"127.0.0.1\"\n",
    "    port = 12345\n",
    "\n",
    "    client_socket = socket.socket(socket.AF_INET, socket.SOCK_STREAM)\n",
    "    client_socket.connect((host, port))\n",
    "\n",
    "    try:\n",
    "         # Receive and print the initial greeting from the server\n",
    "        initial_greeting = client_socket.recv(1024).decode(\"utf-8\")\n",
    "        print(\"Oracle: \", initial_greeting)\n",
    "\n",
    "        while True:\n",
    "            user_input = input(\"You: \")\n",
    "            client_socket.send(user_input.encode(\"utf-8\"))\n",
    "\n",
    "            data = client_socket.recv(1024).decode(\"utf-8\")\n",
    "            if not data:\n",
    "                print(\"Server closed the connection\")\n",
    "                break\n",
    "\n",
    "            print(\"Oracle: \", data)\n",
    "\n",
    "            if \"Thank you for consulting the Oracle\" in data:\n",
    "                break\n",
    "\n",
    "    finally:\n",
    "        client_socket.close()\n",
    "\n",
    "if __name__ == \"__main__\":\n",
    "    main()"
   ]
  }
 ],
 "metadata": {
  "kernelspec": {
   "display_name": "Python 3 (ipykernel)",
   "language": "python",
   "name": "python3"
  },
  "language_info": {
   "codemirror_mode": {
    "name": "ipython",
    "version": 3
   },
   "file_extension": ".py",
   "mimetype": "text/x-python",
   "name": "python",
   "nbconvert_exporter": "python",
   "pygments_lexer": "ipython3",
   "version": "3.10.13"
  }
 },
 "nbformat": 4,
 "nbformat_minor": 5
}
